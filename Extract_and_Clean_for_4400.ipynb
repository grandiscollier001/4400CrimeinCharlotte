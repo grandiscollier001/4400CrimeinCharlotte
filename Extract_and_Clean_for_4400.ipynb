{
  "nbformat": 4,
  "nbformat_minor": 0,
  "metadata": {
    "colab": {
      "provenance": [],
      "authorship_tag": "ABX9TyPDf264ENLB5SFnsioevUlh",
      "include_colab_link": true
    },
    "kernelspec": {
      "name": "python3",
      "display_name": "Python 3"
    },
    "language_info": {
      "name": "python"
    }
  },
  "cells": [
    {
      "cell_type": "markdown",
      "metadata": {
        "id": "view-in-github",
        "colab_type": "text"
      },
      "source": [
        "<a href=\"https://colab.research.google.com/github/grandiscollier001/4400CrimeinCharlotte/blob/main/Extract_and_Clean_for_4400.ipynb\" target=\"_parent\"><img src=\"https://colab.research.google.com/assets/colab-badge.svg\" alt=\"Open In Colab\"/></a>"
      ]
    },
    {
      "cell_type": "markdown",
      "source": [
        "# Install Pandas"
      ],
      "metadata": {
        "id": "wwTG3zb96F4p"
      }
    },
    {
      "cell_type": "code",
      "execution_count": 2,
      "metadata": {
        "colab": {
          "base_uri": "https://localhost:8080/"
        },
        "id": "jfsUF-Vg4f8h",
        "outputId": "6add9086-1d56-4ae3-f114-005897dfa4ee"
      },
      "outputs": [
        {
          "output_type": "stream",
          "name": "stdout",
          "text": [
            "Requirement already satisfied: pandas in /usr/local/lib/python3.10/dist-packages (2.0.3)\n",
            "Requirement already satisfied: python-dateutil>=2.8.2 in /usr/local/lib/python3.10/dist-packages (from pandas) (2.8.2)\n",
            "Requirement already satisfied: pytz>=2020.1 in /usr/local/lib/python3.10/dist-packages (from pandas) (2023.4)\n",
            "Requirement already satisfied: tzdata>=2022.1 in /usr/local/lib/python3.10/dist-packages (from pandas) (2024.1)\n",
            "Requirement already satisfied: numpy>=1.21.0 in /usr/local/lib/python3.10/dist-packages (from pandas) (1.25.2)\n",
            "Requirement already satisfied: six>=1.5 in /usr/local/lib/python3.10/dist-packages (from python-dateutil>=2.8.2->pandas) (1.16.0)\n"
          ]
        }
      ],
      "source": [
        "pip install pandas\n"
      ]
    },
    {
      "cell_type": "markdown",
      "source": [
        "# Read my CSVs"
      ],
      "metadata": {
        "id": "FfRcHpEP6Mry"
      }
    },
    {
      "cell_type": "code",
      "source": [
        "import pandas as pd\n",
        "\n",
        "# Reading CSVs. I have 3 in total for my data.\n",
        "df_incidents = pd.read_csv('/CMPD_Incidents.csv')\n",
        "df_violent = pd.read_csv('/CMPD_Violent_Crime.csv')\n",
        "df_realtor = pd.read_csv('/RealtorAgg.csv')"
      ],
      "metadata": {
        "colab": {
          "base_uri": "https://localhost:8080/"
        },
        "id": "4kO6pKKg4lGc",
        "outputId": "fbf97856-64e7-461b-a455-04fa290878d8"
      },
      "execution_count": 4,
      "outputs": [
        {
          "output_type": "stream",
          "name": "stderr",
          "text": [
            "<ipython-input-4-5ec6031a678d>:4: DtypeWarning: Columns (7) have mixed types. Specify dtype option on import or set low_memory=False.\n",
            "  df_incidents = pd.read_csv('/CMPD_Incidents.csv')\n"
          ]
        }
      ]
    },
    {
      "cell_type": "markdown",
      "source": [
        "# Show the Info for Each Dataframe"
      ],
      "metadata": {
        "id": "wglWpI7P6W6h"
      }
    },
    {
      "cell_type": "markdown",
      "source": [
        "## Dataframe for the Reported Incidents"
      ],
      "metadata": {
        "id": "6FbIEAjL6cdr"
      }
    },
    {
      "cell_type": "code",
      "source": [
        "# Get a concise summary of the Incidents DataFrame\n",
        "print(df_incidents.info())"
      ],
      "metadata": {
        "colab": {
          "base_uri": "https://localhost:8080/"
        },
        "id": "6C7BdvZH5UAh",
        "outputId": "438849f8-3034-4d9e-f70f-c84ddc9f466a"
      },
      "execution_count": 4,
      "outputs": [
        {
          "output_type": "stream",
          "name": "stdout",
          "text": [
            "<class 'pandas.core.frame.DataFrame'>\n",
            "RangeIndex: 259087 entries, 0 to 259086\n",
            "Data columns (total 29 columns):\n",
            " #   Column                     Non-Null Count   Dtype  \n",
            "---  ------                     --------------   -----  \n",
            " 0   X                          259087 non-null  float64\n",
            " 1   Y                          259087 non-null  float64\n",
            " 2   YEAR                       259087 non-null  int64  \n",
            " 3   INCIDENT_REPORT_ID         259087 non-null  object \n",
            " 4   LOCATION                   259086 non-null  object \n",
            " 5   CITY                       259086 non-null  object \n",
            " 6   STATE                      259085 non-null  object \n",
            " 7   ZIP                        176204 non-null  object \n",
            " 8   X_COORD_PUBLIC             259086 non-null  float64\n",
            " 9   Y_COORD_PUBLIC             259086 non-null  float64\n",
            " 10  LATITUDE_PUBLIC            259086 non-null  float64\n",
            " 11  LONGITUDE_PUBLIC           259086 non-null  float64\n",
            " 12  DIVISION_ID                259086 non-null  object \n",
            " 13  CMPD_PATROL_DIVISION       258853 non-null  object \n",
            " 14  NPA                        259086 non-null  float64\n",
            " 15  DATE_REPORTED              259086 non-null  object \n",
            " 16  DATE_INCIDENT_BEGAN        259086 non-null  object \n",
            " 17  DATE_INCIDENT_END          195013 non-null  object \n",
            " 18  ADDRESS_DESCRIPTION        259085 non-null  object \n",
            " 19  LOCATION_TYPE_DESCRIPTION  259086 non-null  object \n",
            " 20  PLACE_TYPE_DESCRIPTION     259086 non-null  object \n",
            " 21  PLACE_DETAIL_DESCRIPTION   259086 non-null  object \n",
            " 22  CLEARANCE_STATUS           259086 non-null  object \n",
            " 23  CLEARANCE_DETAIL_STATUS    259086 non-null  object \n",
            " 24  CLEARANCE_DATE             104829 non-null  object \n",
            " 25  HIGHEST_NIBRS_CODE         259086 non-null  object \n",
            " 26  HIGHEST_NIBRS_DESCRIPTION  259086 non-null  object \n",
            " 27  OBJECTID                   259086 non-null  float64\n",
            " 28  GlobalID                   259086 non-null  object \n",
            "dtypes: float64(8), int64(1), object(20)\n",
            "memory usage: 57.3+ MB\n",
            "None\n"
          ]
        }
      ]
    },
    {
      "cell_type": "code",
      "source": [
        "# Drop Columns for the Incident DF\n",
        "df_incidents = df_incidents.drop(columns=['LOCATION_TYPE_DESCRIPTION','PLACE_TYPE_DESCRIPTION', 'PLACE_DETAIL_DESCRIPTION', 'CLEARANCE_STATUS', 'CLEARANCE_DETAIL_STATUS', 'CLEARANCE_DATE', 'HIGHEST_NIBRS_CODE','HIGHEST_NIBRS_DESCRIPTION','OBJECTID','GlobalID' ])"
      ],
      "metadata": {
        "id": "M3vqMmXl62SB"
      },
      "execution_count": 8,
      "outputs": []
    },
    {
      "cell_type": "code",
      "source": [
        "# Drop rows where any cell is NaN\n",
        "df_incidents.dropna(inplace=True)"
      ],
      "metadata": {
        "id": "Z1uNbKkn8DGV"
      },
      "execution_count": 10,
      "outputs": []
    },
    {
      "cell_type": "code",
      "source": [
        "other_data = pd.read_csv('/content/CMPD_Incidents.csv')\n",
        "df_incidents['restored_column'] = other_data['OBJECTID']"
      ],
      "metadata": {
        "colab": {
          "base_uri": "https://localhost:8080/"
        },
        "id": "JZQPuLTl9nfR",
        "outputId": "d17d9f72-92ee-419f-d7ce-63483743175d"
      },
      "execution_count": 14,
      "outputs": [
        {
          "output_type": "stream",
          "name": "stderr",
          "text": [
            "<ipython-input-14-c21343dd23ee>:1: DtypeWarning: Columns (7) have mixed types. Specify dtype option on import or set low_memory=False.\n",
            "  other_data = pd.read_csv('/content/CMPD_Incidents.csv')\n"
          ]
        }
      ]
    },
    {
      "cell_type": "code",
      "source": [
        "df.rename(columns={'restored_column': 'OBJECTID'}, inplace=True)\n"
      ],
      "metadata": {
        "id": "63_zaEzM-aAZ"
      },
      "execution_count": 16,
      "outputs": []
    },
    {
      "cell_type": "code",
      "source": [
        "print(df_incidents.info())\n"
      ],
      "metadata": {
        "colab": {
          "base_uri": "https://localhost:8080/"
        },
        "id": "4rQpQ-pp8S3A",
        "outputId": "5dc09bfa-f6b5-4040-dbf2-b6cdfcc2e68c"
      },
      "execution_count": 17,
      "outputs": [
        {
          "output_type": "stream",
          "name": "stdout",
          "text": [
            "<class 'pandas.core.frame.DataFrame'>\n",
            "Index: 136324 entries, 2 to 259085\n",
            "Data columns (total 20 columns):\n",
            " #   Column                Non-Null Count   Dtype  \n",
            "---  ------                --------------   -----  \n",
            " 0   X                     136324 non-null  float64\n",
            " 1   Y                     136324 non-null  float64\n",
            " 2   YEAR                  136324 non-null  int64  \n",
            " 3   INCIDENT_REPORT_ID    136324 non-null  object \n",
            " 4   LOCATION              136324 non-null  object \n",
            " 5   CITY                  136324 non-null  object \n",
            " 6   STATE                 136324 non-null  object \n",
            " 7   ZIP                   136324 non-null  object \n",
            " 8   X_COORD_PUBLIC        136324 non-null  float64\n",
            " 9   Y_COORD_PUBLIC        136324 non-null  float64\n",
            " 10  LATITUDE_PUBLIC       136324 non-null  float64\n",
            " 11  LONGITUDE_PUBLIC      136324 non-null  float64\n",
            " 12  DIVISION_ID           136324 non-null  object \n",
            " 13  CMPD_PATROL_DIVISION  136324 non-null  object \n",
            " 14  NPA                   136324 non-null  float64\n",
            " 15  DATE_REPORTED         136324 non-null  object \n",
            " 16  DATE_INCIDENT_BEGAN   136324 non-null  object \n",
            " 17  DATE_INCIDENT_END     136324 non-null  object \n",
            " 18  ADDRESS_DESCRIPTION   136324 non-null  object \n",
            " 19  restored_column       136324 non-null  int64  \n",
            "dtypes: float64(7), int64(2), object(11)\n",
            "memory usage: 21.8+ MB\n",
            "None\n"
          ]
        }
      ]
    },
    {
      "cell_type": "code",
      "source": [
        "# Save the cleaned DataFrame to a new CSV file\n",
        "df_incidents.to_csv('Incidents_cleaned.csv', index=False)"
      ],
      "metadata": {
        "id": "_h4Qp7vt8XUs"
      },
      "execution_count": 12,
      "outputs": []
    },
    {
      "cell_type": "code",
      "source": [
        "# Define the data dictionary details\n",
        "incidents_details = {\n",
        "    'Column': [\n",
        "        'X', 'Y', 'YEAR', 'INCIDENT_REPORT_ID', 'LOCATION', 'CITY', 'STATE', 'ZIP',\n",
        "        'X_COORD_PUBLIC', 'Y_COORD_PUBLIC', 'LATITUDE_PUBLIC', 'LONGITUDE_PUBLIC',\n",
        "        'DIVISION_ID', 'CMPD_PATROL_DIVISION', 'NPA', 'DATE_REPORTED',\n",
        "        'DATE_INCIDENT_BEGAN', 'DATE_INCIDENT_END', 'ADDRESS_DESCRIPTION',\n",
        "        'LOCATION_TYPE_DESCRIPTION', 'PLACE_TYPE_DESCRIPTION', 'PLACE_DETAIL_DESCRIPTION',\n",
        "        'CLEARANCE_STATUS', 'CLEARANCE_DETAIL_STATUS', 'CLEARANCE_DATE',\n",
        "        'HIGHEST_NIBRS_CODE', 'HIGHEST_NIBRS_DESCRIPTION', 'OBJECTID', 'GlobalID'\n",
        "    ],\n",
        "    'Non-Null Count': [\n",
        "        259087, 259087, 259087, 259087, 259086, 259086, 259085, 176204,\n",
        "        259086, 259086, 259086, 259086, 259086, 258853, 259086, 259086,\n",
        "        259086, 195013, 259085, 259086, 259086, 259086, 259086, 259086,\n",
        "        104829, 259086, 259086, 259086, 259086\n",
        "    ],\n",
        "    'Data Type': [\n",
        "        'float64', 'float64', 'int64', 'object', 'object', 'object', 'object', 'object',\n",
        "        'float64', 'float64', 'float64', 'float64', 'object', 'object', 'float64',\n",
        "        'object', 'object', 'object', 'object', 'object', 'object', 'object', 'object',\n",
        "        'object', 'object', 'object', 'object', 'float64', 'object'\n",
        "    ]\n",
        "}\n",
        "\n",
        "# Create the DataFrame\n",
        "data_dictionary_df = pd.DataFrame(incidents_details)\n",
        "\n",
        "# Display the DataFrame\n",
        "print(data_dictionary_df)\n"
      ],
      "metadata": {
        "colab": {
          "base_uri": "https://localhost:8080/"
        },
        "id": "d8dJWn3jUhD5",
        "outputId": "0ebc8d14-a71f-4e27-9036-b7c167eff811"
      },
      "execution_count": 6,
      "outputs": [
        {
          "output_type": "stream",
          "name": "stdout",
          "text": [
            "                       Column  Non-Null Count Data Type\n",
            "0                           X          259087   float64\n",
            "1                           Y          259087   float64\n",
            "2                        YEAR          259087     int64\n",
            "3          INCIDENT_REPORT_ID          259087    object\n",
            "4                    LOCATION          259086    object\n",
            "5                        CITY          259086    object\n",
            "6                       STATE          259085    object\n",
            "7                         ZIP          176204    object\n",
            "8              X_COORD_PUBLIC          259086   float64\n",
            "9              Y_COORD_PUBLIC          259086   float64\n",
            "10            LATITUDE_PUBLIC          259086   float64\n",
            "11           LONGITUDE_PUBLIC          259086   float64\n",
            "12                DIVISION_ID          259086    object\n",
            "13       CMPD_PATROL_DIVISION          258853    object\n",
            "14                        NPA          259086   float64\n",
            "15              DATE_REPORTED          259086    object\n",
            "16        DATE_INCIDENT_BEGAN          259086    object\n",
            "17          DATE_INCIDENT_END          195013    object\n",
            "18        ADDRESS_DESCRIPTION          259085    object\n",
            "19  LOCATION_TYPE_DESCRIPTION          259086    object\n",
            "20     PLACE_TYPE_DESCRIPTION          259086    object\n",
            "21   PLACE_DETAIL_DESCRIPTION          259086    object\n",
            "22           CLEARANCE_STATUS          259086    object\n",
            "23    CLEARANCE_DETAIL_STATUS          259086    object\n",
            "24             CLEARANCE_DATE          104829    object\n",
            "25         HIGHEST_NIBRS_CODE          259086    object\n",
            "26  HIGHEST_NIBRS_DESCRIPTION          259086    object\n",
            "27                   OBJECTID          259086   float64\n",
            "28                   GlobalID          259086    object\n"
          ]
        }
      ]
    },
    {
      "cell_type": "markdown",
      "source": [
        "## Dataframe for the Violent Crimes"
      ],
      "metadata": {
        "id": "AnSsRBZ76n2Y"
      }
    },
    {
      "cell_type": "code",
      "source": [
        "# Get a concise summary of the Incidents DataFrame\n",
        "print(df_violent.info())"
      ],
      "metadata": {
        "colab": {
          "base_uri": "https://localhost:8080/"
        },
        "id": "ai-itE-55n6P",
        "outputId": "600fbb4e-61c8-4557-941a-02c8746fb929"
      },
      "execution_count": 5,
      "outputs": [
        {
          "output_type": "stream",
          "name": "stdout",
          "text": [
            "<class 'pandas.core.frame.DataFrame'>\n",
            "RangeIndex: 62353 entries, 0 to 62352\n",
            "Data columns (total 8 columns):\n",
            " #   Column               Non-Null Count  Dtype \n",
            "---  ------               --------------  ----- \n",
            " 0   ROW_TYPE             62353 non-null  object\n",
            " 1   GEOGRAPHY            62353 non-null  object\n",
            " 2   GEOGRAPHY_ID         62353 non-null  int64 \n",
            " 3   CALENDAR_YEAR        62353 non-null  int64 \n",
            " 4   CALENDAR_MONTH       62353 non-null  int64 \n",
            " 5   OFFENSE_DESCRIPTION  62353 non-null  object\n",
            " 6   OFFENSE_COUNT        62353 non-null  int64 \n",
            " 7   OBJECTID             62353 non-null  int64 \n",
            "dtypes: int64(5), object(3)\n",
            "memory usage: 3.8+ MB\n",
            "None\n"
          ]
        }
      ]
    },
    {
      "cell_type": "code",
      "source": [],
      "metadata": {
        "id": "mzEkzoYb85T3"
      },
      "execution_count": null,
      "outputs": []
    },
    {
      "cell_type": "markdown",
      "source": [
        "## Dataframe with Real Estate Info"
      ],
      "metadata": {
        "id": "XLAgOa486uMi"
      }
    },
    {
      "cell_type": "code",
      "source": [
        "# Get a concise summary of the Incidents DataFrame\n",
        "print(df_realtor.info())"
      ],
      "metadata": {
        "colab": {
          "base_uri": "https://localhost:8080/"
        },
        "id": "EUBMu_WR5n_j",
        "outputId": "fcab515f-d3bf-4efa-876f-9c8b226cc954"
      },
      "execution_count": 6,
      "outputs": [
        {
          "output_type": "stream",
          "name": "stdout",
          "text": [
            "<class 'pandas.core.frame.DataFrame'>\n",
            "RangeIndex: 1418 entries, 0 to 1417\n",
            "Data columns (total 29 columns):\n",
            " #   Column          Non-Null Count  Dtype  \n",
            "---  ------          --------------  -----  \n",
            " 0   property_url    1418 non-null   object \n",
            " 1   mls             1418 non-null   object \n",
            " 2   mls_id          1418 non-null   object \n",
            " 3   status          1418 non-null   object \n",
            " 4   style           1418 non-null   object \n",
            " 5   street          1406 non-null   object \n",
            " 6   unit            234 non-null    object \n",
            " 7   city            1418 non-null   object \n",
            " 8   state           1418 non-null   object \n",
            " 9   zip_code        1418 non-null   int64  \n",
            " 10  beds            903 non-null    float64\n",
            " 11  full_baths      898 non-null    float64\n",
            " 12  half_baths      441 non-null    float64\n",
            " 13  sqft            720 non-null    float64\n",
            " 14  year_built      766 non-null    float64\n",
            " 15  days_on_mls     1418 non-null   int64  \n",
            " 16  list_price      904 non-null    float64\n",
            " 17  list_date       1418 non-null   object \n",
            " 18  sold_price      726 non-null    float64\n",
            " 19  last_sold_date  726 non-null    object \n",
            " 20  lot_sqft        324 non-null    float64\n",
            " 21  price_per_sqft  719 non-null    float64\n",
            " 22  latitude        1362 non-null   float64\n",
            " 23  longitude       1362 non-null   float64\n",
            " 24  stories         605 non-null    float64\n",
            " 25  hoa_fee         47 non-null     float64\n",
            " 26  parking_garage  313 non-null    float64\n",
            " 27  primary_photo   1345 non-null   object \n",
            " 28  alt_photos      1345 non-null   object \n",
            "dtypes: float64(14), int64(2), object(13)\n",
            "memory usage: 321.4+ KB\n",
            "None\n"
          ]
        }
      ]
    },
    {
      "cell_type": "code",
      "source": [
        "data_dictionary_incidents = pd.Dataframe()"
      ],
      "metadata": {
        "id": "8g-6xwGjTvWc"
      },
      "execution_count": null,
      "outputs": []
    },
    {
      "cell_type": "code",
      "source": [
        "import pandas as pd\n",
        "\n",
        "# Existing data dictionary DataFrame setup (as we did previously)\n",
        "data_details = {\n",
        "    'Column': [\n",
        "        'X', 'Y', 'YEAR', 'INCIDENT_REPORT_ID', 'LOCATION', 'CITY', 'STATE', 'ZIP',\n",
        "        'X_COORD_PUBLIC', 'Y_COORD_PUBLIC', 'LATITUDE_PUBLIC', 'LONGITUDE_PUBLIC',\n",
        "        'DIVISION_ID', 'CMPD_PATROL_DIVISION', 'NPA', 'DATE_REPORTED',\n",
        "        'DATE_INCIDENT_BEGAN', 'DATE_INCIDENT_END', 'ADDRESS_DESCRIPTION',\n",
        "        'LOCATION_TYPE_DESCRIPTION', 'PLACE_TYPE_DESCRIPTION', 'PLACE_DETAIL_DESCRIPTION',\n",
        "        'CLEARANCE_STATUS', 'CLEARANCE_DETAIL_STATUS', 'CLEARANCE_DATE',\n",
        "        'HIGHEST_NIBRS_CODE', 'HIGHEST_NIBRS_DESCRIPTION', 'OBJECTID', 'GlobalID'\n",
        "    ],\n",
        "    'Non-Null Count': [\n",
        "        259087, 259087, 259087, 259087, 259086, 259086, 259085, 176204,\n",
        "        259086, 259086, 259086, 259086, 259086, 258853, 259086, 259086,\n",
        "        259086, 195013, 259085, 259086, 259086, 259086, 259086, 259086,\n",
        "        104829, 259086, 259086, 259086, 259086\n",
        "    ],\n",
        "    'Data Type': [\n",
        "        'float64', 'float64', 'int64', 'object', 'object', 'object', 'object', 'object',\n",
        "        'float64', 'float64', 'float64', 'float64', 'object', 'object', 'float64',\n",
        "        'object', 'object', 'object', 'object', 'object', 'object', 'object', 'object',\n",
        "        'object', 'object', 'object', 'object', 'float64', 'object'\n",
        "    ]\n",
        "}\n",
        "data_dictionary_df = pd.DataFrame(data_details)\n",
        "\n",
        "# New entries\n",
        "new_columns = [\n",
        "    'ROW_TYPE', 'GEOGRAPHY', 'GEOGRAPHY_ID', 'CALENDAR_YEAR', 'CALENDAR_MONTH',\n",
        "    'OFFENSE_DESCRIPTION', 'OFFENSE_COUNT', 'OBJECTID',\n",
        "    'property_url', 'mls', 'mls_id', 'status', 'style', 'street', 'unit',\n",
        "    'city', 'state', 'zip_code', 'beds', 'full_baths', 'half_baths', 'sqft',\n",
        "    'year_built', 'days_on_mls', 'list_price', 'list_date', 'sold_price',\n",
        "    'last_sold_date', 'lot_sqft', 'price_per_sqft', 'latitude', 'longitude',\n",
        "    'stories', 'hoa_fee', 'parking_garage', 'primary_photo', 'alt_photos'\n",
        "]\n",
        "new_non_null_counts = [\n",
        "    62353, 62353, 62353, 62353, 62353, 62353, 62353, 62353,\n",
        "    1418, 1418, 1418, 1418, 1418, 1406, 234, 1418, 1418, 1418, 903, 898, 441, 720,\n",
        "    766, 1418, 904, 1418, 726, 726, 324, 719, 1362, 1362, 605, 47, 313, 1345, 1345\n",
        "]\n",
        "new_data_types = [\n",
        "    'object', 'object', 'int64', 'int64', 'int64', 'object', 'int64', 'int64',\n",
        "    'object', 'object', 'object', 'object', 'object', 'object', 'object',\n",
        "    'object', 'object', 'int64', 'float64', 'float64', 'float64', 'float64',\n",
        "    'float64', 'int64', 'float64', 'object', 'float64', 'object', 'float64',\n",
        "    'float64', 'float64', 'float64', 'float64', 'float64', 'float64', 'object', 'object'\n",
        "]\n",
        "\n",
        "# Append new entries to the existing DataFrame\n",
        "additional_data = pd.DataFrame({\n",
        "    'Column': new_columns,\n",
        "    'Non-Null Count': new_non_null_counts,\n",
        "    'Data Type': new_data_types\n",
        "})\n",
        "\n",
        "data_dictionary_df = pd.concat([data_dictionary_df, additional_data], ignore_index=True)\n",
        "\n",
        "# Display the updated DataFrame\n",
        "print(data_dictionary_df)\n",
        "\n",
        "# Save the updated data dictionary to CSV\n",
        "data_dictionary_df.to_csv('updated_data_dictionary.csv', index=False)"
      ],
      "metadata": {
        "colab": {
          "base_uri": "https://localhost:8080/"
        },
        "id": "N5eS0NkuVnIQ",
        "outputId": "ad1fd26a-78f4-4598-c6b8-f7452bf0ac45"
      },
      "execution_count": 17,
      "outputs": [
        {
          "output_type": "stream",
          "name": "stdout",
          "text": [
            "                Column  Non-Null Count Data Type\n",
            "0                    X          259087   float64\n",
            "1                    Y          259087   float64\n",
            "2                 YEAR          259087     int64\n",
            "3   INCIDENT_REPORT_ID          259087    object\n",
            "4             LOCATION          259086    object\n",
            "..                 ...             ...       ...\n",
            "61             stories             605   float64\n",
            "62             hoa_fee              47   float64\n",
            "63      parking_garage             313   float64\n",
            "64       primary_photo            1345    object\n",
            "65          alt_photos            1345    object\n",
            "\n",
            "[66 rows x 3 columns]\n"
          ]
        }
      ]
    },
    {
      "cell_type": "code",
      "source": [
        "# Save the updated data dictionary to CSV\n",
        "data_dictionary_df.to_csv('/updated_data_dictionary.csv', index=False)"
      ],
      "metadata": {
        "id": "6dt05gPuW2IY"
      },
      "execution_count": 18,
      "outputs": []
    },
    {
      "cell_type": "code",
      "source": [
        "import csv\n",
        "import subprocess\n",
        "import os"
      ],
      "metadata": {
        "id": "DIfmYLbHIRZk"
      },
      "execution_count": 9,
      "outputs": []
    },
    {
      "cell_type": "code",
      "source": [
        "# Path to your CSV data dictionary file\n",
        "data_dictionary_path = 'updated_data_dictionary.csv'\n",
        "# Path to the directory where the Git repository is located\n",
        "git_repo_path = 'my-mongo-project/'\n",
        "# File to store the formatted data\n",
        "output_file_path = os.path.join(git_repo_path, 'data_file.csv')\n"
      ],
      "metadata": {
        "id": "LZHEGRuOTcQq"
      },
      "execution_count": 22,
      "outputs": []
    },
    {
      "cell_type": "code",
      "source": [
        "# Function to read data from a CSV file\n",
        "def extract_data(file_path):\n",
        "    data = []\n",
        "    with open(file_path, newline='') as csvfile:\n",
        "        reader = csv.DictReader(csvfile)\n",
        "        for row in reader:\n",
        "            data.append(row)\n",
        "    return data\n",
        "\n",
        "# Function to add and commit the file to Git\n",
        "def git_commit(file_path, repo_path, commit_message):\n",
        "    # Change to the repository directory\n",
        "    os.chdir(repo_path)\n",
        "    # Add the file to staging\n",
        "    subprocess.run(['git', 'add', file_path], check=True)\n",
        "    # Commit the changes\n",
        "    subprocess.run(['git', 'commit', '-m', commit_message], check=True)\n"
      ],
      "metadata": {
        "id": "-ku-BL-mW9Sy"
      },
      "execution_count": 24,
      "outputs": []
    }
  ]
}